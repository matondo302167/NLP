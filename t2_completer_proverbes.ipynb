{
 "cells": [
  {
   "cell_type": "markdown",
   "id": "d582d91d",
   "metadata": {},
   "source": [
    "# Tâche 2 - Comme le disait le proverbe - les bons mots pour le dire\n",
    "\n",
    "L'objectif de cette tâche est de compléter des proverbes à l'aide de modèles de langue N-grammes en insérant des mots aux bons endroits dans un texte masqué. Il s'agit d'une tâche de type *cloze test* qui consiste à choisir le meilleur mot à insérer dans un texte en fonction de son contexte. \n",
    "\n",
    "Voir l'énoncé du travail #1 pour une description plus détaillée de cette tâche. \n",
    "\n",
    "Fichiers:\n",
    "- *proverbes.txt*: il contient plus de 3000 proverbes, un par ligne de texte. Pour l'entraînement des modèles de langues N-grammes. \n",
    "- *test_proverbes_v1.json*: il contient des proverbes masqués, les mots à insérer et la bonne formulation du proverbe. À utiliser pour évaluer la capacité des modèles à mettre les mots aux bons endroits. \n",
    "\n",
    "Consignes: \n",
    "- Utilisez NLTK pour construire les modèles de langue.\n",
    "- Utilisez des expressions régulières (une seule ou plusieurs) pour remplacer les * et les ** par des mots. \n",
    "- Utilisez NLTK pour faire la tokenisation des proverbes. \n",
    "- N'oubliez pas de faire le *padding* des proverbes avec des symboles de début \\<BOS\\> et de fin \\<EOS\\>.\n",
    "- Ne pas modifier les fonctions *load_proverbs* et *load_tests*.\n",
    "- Ne pas modifier la signature de la fonction *replace_stars_with_words*.\n",
    "- Utilisez la variable *models* pour conserver les modèles après entraînement. \n",
    "- Ne pas modifier la signature de la fonction *train_models*.\n",
    "- Ne pas modifier la signature de la fonction *fill_masked_proverb*. \n",
    "- Des modifications aux signatures pourraient entraîner des déductions dans la correction. \n",
    "- Vous pouvez ajouter des cellules au notebook et toutes les fonctions utilitaires que vous voulez. "
   ]
  },
  {
   "cell_type": "markdown",
   "id": "8a3ec4af",
   "metadata": {},
   "source": [
    "## Section 1 - Lecture des fichiers de données (proverbes et tests)"
   ]
  },
  {
   "cell_type": "code",
   "execution_count": 1,
   "id": "e10ec998",
   "metadata": {},
   "outputs": [],
   "source": [
    "import json\n",
    "\n",
    "# Ne pas modifier le chemin de ces 2 fichiers pour faciliter notre correction\n",
    "proverbs_fn = \"./data/proverbes.txt\"    \n",
    "test_v1_fn = './data/test_proverbes_v1.json'\n",
    "\n",
    "def load_proverbs(filename):\n",
    "    with open(filename, 'r', encoding='utf-8') as f:\n",
    "        raw_lines = f.readlines()\n",
    "    return [x.strip() for x in raw_lines]\n",
    "\n",
    "\n",
    "def load_tests(filename):\n",
    "    with open(filename, 'r', encoding='utf-8') as fp:\n",
    "        test_data = json.load(fp)\n",
    "    return test_data"
   ]
  },
  {
   "cell_type": "code",
   "execution_count": 2,
   "id": "c9fbbdd5",
   "metadata": {},
   "outputs": [],
   "source": [
    "proverbs = load_proverbs(proverbs_fn)"
   ]
  },
  {
   "cell_type": "code",
   "execution_count": 3,
   "id": "dcd0c9a9",
   "metadata": {},
   "outputs": [
    {
     "name": "stdout",
     "output_type": "stream",
     "text": [
      "Nombre de proverbes pour l'entraînement: 3108\n",
      "Un exemple de proverbe: accord vaut mieux qu’argent\n"
     ]
    }
   ],
   "source": [
    "print(\"Nombre de proverbes pour l'entraînement: {}\".format(len(proverbs)))\n",
    "print(\"Un exemple de proverbe: \" + proverbs[5])"
   ]
  },
  {
   "cell_type": "code",
   "execution_count": null,
   "id": "ee39d050",
   "metadata": {},
   "outputs": [],
   "source": [
    "tests = load_tests(test_v1_fn)"
   ]
  },
  {
   "cell_type": "code",
   "execution_count": null,
   "id": "e80bd88a",
   "metadata": {},
   "outputs": [],
   "source": [
    "import pandas as pd\n",
    "\n",
    "def get_dataframe(test_proverbs):\n",
    "    return pd.DataFrame.from_dict(test_proverbs, orient='columns', dtype=None, columns=None)\n",
    "\n",
    "df = get_dataframe(tests)\n",
    "df"
   ]
  },
  {
   "cell_type": "markdown",
   "id": "300b071c",
   "metadata": {},
   "source": [
    "## Section 2 - Code pour substituer les masques (étoiles) par des mots\n",
    "\n",
    "Expliquez ici comment vous procédez pour remplacer les étoiles des proverbes masqués par des mots... N'oubliez pas qu'il faut faire usage d'expressions régulières (une ou plusieurs - au choix). \n",
    "\n"
   ]
  },
  {
   "cell_type": "code",
   "execution_count": null,
   "id": "a7ba3203",
   "metadata": {},
   "outputs": [],
   "source": [
    "import re\n",
    "\n",
    "def replace_stars_with_words(masked, word1, word2):\n",
    "    \"\"\"Remplace les * par word1 et word2 dans cet ordre. Retourne le proverbe complet.\"\"\"\n",
    "    # votre code\n",
    "    #\n",
    "    return proverb  # Retourne le proverbe avec des mots à la place des étoiles"
   ]
  },
  {
   "cell_type": "code",
   "execution_count": null,
   "id": "61b8048b",
   "metadata": {},
   "outputs": [],
   "source": []
  },
  {
   "cell_type": "code",
   "execution_count": null,
   "id": "c7bbe9f5",
   "metadata": {},
   "outputs": [],
   "source": []
  },
  {
   "cell_type": "markdown",
   "id": "3c57364c",
   "metadata": {},
   "source": [
    "## Section 3 - Construction des modèles de langue N-grammes. \n",
    "\n",
    "La fonction ***train_models*** prend en entrée une liste de proverbes et construit les trois modèles unigramme, bigramme et trigramme.\n",
    "\n",
    "Les 3 modèles entraînés sont conservés dans *models*, un dictionnaire Python qui prend la forme \n",
    "\n",
    "<pre>\n",
    "{\n",
    "   1: modele_unigramme, \n",
    "   2: modele_bigramme, \n",
    "   3: modele_trigramme\n",
    "}\n",
    "</pre>\n",
    "\n",
    "avec comme clé la valeur N du modèle et comme valeur le modèle construit par NLTK.\n",
    "\n",
    "Expliquez ici comment vous procéder pour construire vos modèles avec NLTK, pour obtenir les n-grammes de mots, pour déterminer le vocabulaire, etc...\n",
    "\n"
   ]
  },
  {
   "cell_type": "code",
   "execution_count": null,
   "id": "5d4c6390",
   "metadata": {},
   "outputs": [],
   "source": [
    "import nltk\n",
    "# autres librairies à importer pour la partie sur les N-grammes?\n",
    "\n",
    "BOS = '<BOS>'  # Jeton de début de proverbe\n",
    "EOS = '<EOS>'  # Jeton de fin de proverbe\n",
    "\n",
    "models = {}  # les modèles entraînés - [1: modele_unigramme, 2: modele_bigramme, 3: modele_trigramme] "
   ]
  },
  {
   "cell_type": "code",
   "execution_count": null,
   "id": "9c739125",
   "metadata": {},
   "outputs": [],
   "source": []
  },
  {
   "cell_type": "code",
   "execution_count": null,
   "id": "6e460425",
   "metadata": {},
   "outputs": [],
   "source": []
  },
  {
   "cell_type": "code",
   "execution_count": null,
   "id": "03383121",
   "metadata": {},
   "outputs": [],
   "source": [
    "def train_models(proverbs):\n",
    "    \"\"\" Vous ajoutez à partir d'ici le code dont vous avez besoin\n",
    "        pour construire les différents modèles N-grammes.\n",
    "        Cette fonction doit construire tous les modèles en une seule passe.\n",
    "        Voir les consignes de l'énoncé du travail pratique concernant les modèles à entraîner.\n",
    "\n",
    "        Vous pouvez ajouter les fonctions/méthodes et variables que vous jugerez nécessaire.\n",
    "        Merci de ne pas modifier la signature et le comportement de cette fonction (nom, arguments, sauvegarde des modèles).\n",
    "    \"\"\"\n",
    "\n",
    "    # Votre code à partir d'ici...  \n",
    "    \n",
    "\n",
    "    \n",
    "    # Sauvegarde de vos modèles \n",
    "    models[1] = ...\n",
    "    models[2] = ...\n",
    "    models[3] = ..."
   ]
  },
  {
   "cell_type": "code",
   "execution_count": null,
   "id": "dd160430",
   "metadata": {},
   "outputs": [],
   "source": []
  },
  {
   "cell_type": "code",
   "execution_count": null,
   "id": "b755d014",
   "metadata": {},
   "outputs": [],
   "source": []
  },
  {
   "cell_type": "markdown",
   "id": "0a05719e",
   "metadata": {},
   "source": [
    "## Section 4 - Compléter un proverbe"
   ]
  },
  {
   "cell_type": "code",
   "execution_count": null,
   "id": "fdf0b1b1",
   "metadata": {},
   "outputs": [],
   "source": [
    "def fill_masked_proverb(masked, word_list, n=3, criteria=\"perplexity\"):\n",
    "    \"\"\" Fonction qui complète un texte à trous (des mots masqués) en ajoutant \n",
    "        les bons mots aux bons endroits (un \"cloze test\").\n",
    "\n",
    "        Le paramètre criteria indique la mesure qu'on utilise \n",
    "        pour choisir le mot le plus approprié: \"logprob\" ou \"perplexity\".\n",
    "        On retourne l'estimation de cette mesure sur le proverbe complet,\n",
    "        c.-à-d. en utilisant tous les mots du proverbe.\n",
    "\n",
    "        Le paramètre n désigne le modèle utilisé.\n",
    "        1 - unigramme NLTK, 2 - bigramme NLTK, 3 - trigramme NLTK\n",
    "        \n",
    "        Cette fonction retourne la solution (le proverbe complété) et \n",
    "        la valeur de logprob ou perplexité (selon le paramètre en entrée de la fonction). \n",
    "    \"\"\"\n",
    "\n",
    "    # Votre code à partir d'ici. Vous pouvez modifier comme bon vous semble.\n",
    "    \n",
    "    \n",
    "    #---- À retirer à partir d'ici ----------\n",
    "    best_perplexity = 1500\n",
    "    best_logprob = -100\n",
    "    result = 'bonne femme fait le bon homme'\n",
    "    #---- À retirer ce qui précède ----------\n",
    "\n",
    "    if criteria == \"perplexity\":\n",
    "        score = best_perplexity\n",
    "    else:\n",
    "        score = best_logprob\n",
    "    return result, score"
   ]
  },
  {
   "cell_type": "markdown",
   "id": "1cbf4bc8",
   "metadata": {},
   "source": [
    "Un exemple pour illustrer l'utilisation de cette fonction"
   ]
  },
  {
   "cell_type": "code",
   "execution_count": null,
   "id": "5dcfecbc",
   "metadata": {},
   "outputs": [],
   "source": [
    "masked =  \"* femme fait le ** homme\"   \n",
    "word_list = ['bon', 'bonne']    \n",
    "fill_masked_proverb(masked, word_list, n=3, criteria=\"logprob\")"
   ]
  },
  {
   "cell_type": "code",
   "execution_count": null,
   "id": "cd5ba65e",
   "metadata": {},
   "outputs": [],
   "source": []
  },
  {
   "cell_type": "markdown",
   "id": "5720e938",
   "metadata": {},
   "source": [
    "## Section 5 - Expérimentations et analyse de vos résultats\n",
    "\n",
    "Décrivez ici les résultats obtenus et présentez l'évaluation obtenue sur le fichier de test. Vous pouvez ajouter le nombre de cellules que vous souhaitez. "
   ]
  },
  {
   "cell_type": "code",
   "execution_count": null,
   "id": "bb078efc",
   "metadata": {},
   "outputs": [],
   "source": []
  },
  {
   "cell_type": "code",
   "execution_count": null,
   "id": "157a287a",
   "metadata": {},
   "outputs": [],
   "source": []
  },
  {
   "cell_type": "markdown",
   "id": "bcba2d5a",
   "metadata": {},
   "source": [
    "## Section 6 - Partie réservée pour faire nos tests lors de la correction\n",
    "\n",
    "Merci de ne pas modifier ni retirer cette section du notebook ! "
   ]
  },
  {
   "cell_type": "code",
   "execution_count": null,
   "id": "290fd2c8",
   "metadata": {},
   "outputs": [],
   "source": []
  },
  {
   "cell_type": "code",
   "execution_count": null,
   "id": "9b046259",
   "metadata": {},
   "outputs": [],
   "source": []
  },
  {
   "cell_type": "code",
   "execution_count": null,
   "id": "7ce7e9e2",
   "metadata": {},
   "outputs": [],
   "source": []
  },
  {
   "cell_type": "code",
   "execution_count": null,
   "id": "02a13ce2",
   "metadata": {},
   "outputs": [],
   "source": []
  },
  {
   "cell_type": "code",
   "execution_count": null,
   "id": "27f99003",
   "metadata": {},
   "outputs": [],
   "source": []
  }
 ],
 "metadata": {
  "kernelspec": {
   "display_name": "Python 3 (ipykernel)",
   "language": "python",
   "name": "python3"
  },
  "language_info": {
   "codemirror_mode": {
    "name": "ipython",
    "version": 3
   },
   "file_extension": ".py",
   "mimetype": "text/x-python",
   "name": "python",
   "nbconvert_exporter": "python",
   "pygments_lexer": "ipython3",
   "version": "3.8.10"
  }
 },
 "nbformat": 4,
 "nbformat_minor": 5
}
